{
 "cells": [
  {
   "cell_type": "code",
   "execution_count": 2,
   "metadata": {},
   "outputs": [],
   "source": [
    "import requests\n",
    "import json\n",
    "\n",
    "count = 0\n",
    "for pokemon in [1,2,3,4,5,6,7,8,9,10]:\n",
    "    count += 1\n",
    "    r = requests.get('https://pokeapi.co/api/v2/pokemon/ditto/')\n",
    "    data = r.json()\n",
    "    with open('data%s.json'% count,'w') as f:\n",
    "        json.dump(data,f,indent=4)"
   ]
  }
 ],
 "metadata": {
  "kernelspec": {
   "display_name": "Python 3",
   "language": "python",
   "name": "python3"
  },
  "language_info": {
   "codemirror_mode": {
    "name": "ipython",
    "version": 3
   },
   "file_extension": ".py",
   "mimetype": "text/x-python",
   "name": "python",
   "nbconvert_exporter": "python",
   "pygments_lexer": "ipython3",
   "version": "3.7.3"
  }
 },
 "nbformat": 4,
 "nbformat_minor": 2
}
